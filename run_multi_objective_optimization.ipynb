{
 "cells": [
  {
   "cell_type": "markdown",
   "id": "66617be1077c2248c28eb76a",
   "metadata": {
    "chart_settings": null,
    "custom_llm_metric_settings": null,
    "custom_metric_settings": null,
    "dataframe_view_options": null,
    "datarobot": {
     "language": "markdown"
    },
    "disable_run": false,
    "hide_code": false,
    "hide_results": false
   },
   "source": [
    "# Multi-objective Optimization Streamlit Application\n",
    "- Author: senkin.zhan@datarobot.com\n",
    "\n",
    "## Summary\n",
    "This accelerator introduces an approach to build a streamlit application using DataRobot deploments for multi-objective optimization.\n",
    "\n",
    "This notebook outlines how to:\n",
    "\n",
    "1. Create multiple projects \n",
    "2. Build deployment with best model\n",
    "3. Build Streamlit application connecting to DataRobot\n"
   ]
  },
  {
   "cell_type": "markdown",
   "id": "66617be1077c2248c28eb76b",
   "metadata": {
    "chart_settings": null,
    "custom_llm_metric_settings": null,
    "custom_metric_settings": null,
    "dataframe_view_options": null,
    "datarobot": {
     "language": "markdown"
    },
    "disable_run": false,
    "hide_code": false,
    "hide_results": false
   },
   "source": [
    "## Setup\n",
    "\n",
    "### Install and import libraries"
   ]
  },
  {
   "cell_type": "code",
   "execution_count": 2,
   "id": "66617be1077c2248c28eb76c",
   "metadata": {
    "chart_settings": null,
    "collapsed": false,
    "custom_llm_metric_settings": null,
    "custom_metric_settings": null,
    "dataframe_view_options": null,
    "datarobot": {
     "language": "python"
    },
    "disable_run": false,
    "hide_code": false,
    "hide_results": false,
    "jupyter": {
     "outputs_hidden": false
    }
   },
   "outputs": [
    {
     "data": {
      "text/plain": [
       "Collecting git+https://github.com/datarobot/dr-apps\n",
       "  Cloning https://github.com/datarobot/dr-apps to /tmp/pip-req-build-mtve5ld3\n",
       "  Installing build dependencies ... \u001b[?25l-\b \b\\"
      ]
     },
     "execution_count": 2,
     "metadata": {},
     "output_type": "execute_result"
    },
    {
     "data": {
      "text/plain": [
       "\b \b|\b \b/\b \bdone\n",
       "\u001b[?25h  Getting requirements to build wheel ... \u001b[?25l-\b \bdone\n",
       "\u001b[?25h    Preparing wheel metadata ... \u001b[?25l-\b \bdone\n",
       "\u001b[?25hRequirement already satisfied: requests==2.31.0 in /etc/system/kernel/.venv/lib/python3.9/site-packages (from drapps==0.2.4) (2.31.0)\n",
       "Requirement already satisfied: click==8.1.7 in /etc/system/kernel/.venv/lib/python3.9/site-packages (from drapps==0.2.4) (8.1.7)\n",
       "Collecting dateutils==0.6.12\n",
       "  Downloading dateutils-0.6.12-py2.py3-none-any.whl (5.7 kB)\n",
       "Collecting bson==0.5.10\n",
       "  Downloading bson-0.5.10.tar.gz (10 kB)\n",
       "Requirement already satisfied: tabulate==0.9.0 in /etc/system/kernel/.venv/lib/python3.9/site-packages (from drapps==0.2.4) (0.9.0)\n",
       "Requirement already satisfied: requests-toolbelt==1.0.0 in /etc/system/kernel/.venv/lib/python3.9/site-packages (from drapps==0.2.4) (1.0.0)\n",
       "Requirement already satisfied: urllib3<3,>=1.21.1 in /etc/system/kernel/.venv/lib/python3.9/site-packages (from requests==2.31.0->drapps==0.2.4) (1.26.18)\n",
       "Requirement already satisfied: certifi>=2017.4.17 in /etc/system/kernel/.venv/lib/python3.9/site-packages (from requests==2.31.0->drapps==0.2.4) (2024.2.2)\n",
       "Requirement already satisfied: charset-normalizer<4,>=2 in /etc/system/kernel/.venv/lib/python3.9/site-packages (from requests==2.31.0->drapps==0.2.4) (3.3.2)\n",
       "Requirement already satisfied: idna<4,>=2.5 in /etc/system/kernel/.venv/lib/python3.9/site-packages (from requests==2.31.0->drapps==0.2.4) (3.6)\n",
       "Requirement already satisfied: python-dateutil in /etc/system/kernel/.venv/lib/python3.9/site-packages (from dateutils==0.6.12->drapps==0.2.4) (2.8.2)\n",
       "Requirement already satisfied: pytz in /etc/system/kernel/.venv/lib/python3.9/site-packages (from dateutils==0.6.12->drapps==0.2.4) (2024.1)\n",
       "Requirement already satisfied: six>=1.9.0 in /etc/system/kernel/.venv/lib/python3.9/site-packages (from bson==0.5.10->drapps==0.2.4) (1.16.0)\n",
       "Building wheels for collected packages: drapps, bson\n",
       "  Building wheel for drapps (PEP 517) ... \u001b[?25l-\b \bdone\n",
       "\u001b[?25h  Created wheel for drapps: filename=drapps-0.2.4-py3-none-any.whl size=20780 sha256=0736f9d39dc57e313606fa8aba6e0818e1657254357ffec2db8cc5b5e58b6e78\n",
       "  Stored in directory: /tmp/pip-ephem-wheel-cache-lp_rp4lg/wheels/dc/ed/e4/791a4ddf6aeb3c90f6484ad2b414014b4df60c168c8045943e\n",
       "  Building wheel for bson (setup.py) ... \u001b[?25l"
      ]
     },
     "execution_count": 2,
     "metadata": {},
     "output_type": "execute_result"
    },
    {
     "data": {
      "text/plain": [
       "-\b \b\\\b \bdone\n",
       "\u001b[?25h  Created wheel for bson: filename=bson-0.5.10-py3-none-any.whl size=11978 sha256=f5567a09ad780f813bce00b7baaa3f5a28ef06fea4e0233a7b3e28c2b0dc3675\n",
       "  Stored in directory: /tmp/pip-ephem-wheel-cache-lp_rp4lg/wheels/6d/8b/5e/68619cb02962978c6cc8eaf68ca23ef28c69de7e086740702b\n",
       "Successfully built drapps bson\n",
       "Installing collected packages: dateutils, bson, drapps\n",
       "Successfully installed bson-0.5.10 dateutils-0.6.12 drapps-0.2.4\n"
      ]
     },
     "execution_count": 2,
     "metadata": {},
     "output_type": "execute_result"
    }
   ],
   "source": [
    "!pip install git+https://github.com/datarobot/dr-apps "
   ]
  },
  {
   "cell_type": "code",
   "execution_count": null,
   "id": "66617be1077c2248c28eb76d",
   "metadata": {
    "chart_settings": null,
    "collapsed": false,
    "custom_llm_metric_settings": null,
    "custom_metric_settings": null,
    "dataframe_view_options": null,
    "datarobot": {
     "language": "python"
    },
    "disable_run": false,
    "hide_code": false,
    "hide_results": false,
    "jupyter": {
     "outputs_hidden": false
    }
   },
   "outputs": [],
   "source": [
    "import pandas as pd\n",
    "import numpy as np\n",
    "import datarobot as dr\n",
    "from datarobot.models.dataset import Dataset\n",
    "import datetime as dt\n",
    "import time\n",
    "import os\n",
    "from dask import delayed, compute #For parallelization\n",
    "import pickle"
   ]
  },
  {
   "cell_type": "markdown",
   "id": "666bfa668b6cf00f89772d9a",
   "metadata": {
    "chart_settings": null,
    "custom_llm_metric_settings": null,
    "custom_metric_settings": null,
    "dataframe_view_options": null,
    "datarobot": {
     "language": "markdown"
    },
    "disable_run": false,
    "hide_code": false,
    "hide_results": false
   },
   "source": [
    "### Download code from github"
   ]
  },
  {
   "cell_type": "code",
   "execution_count": 4,
   "id": "666bfa5b8b6cf00f89772d96",
   "metadata": {
    "chart_settings": null,
    "collapsed": false,
    "custom_llm_metric_settings": null,
    "custom_metric_settings": null,
    "dataframe_view_options": null,
    "datarobot": {
     "language": "python"
    },
    "disable_run": false,
    "hide_code": false,
    "hide_results": false,
    "jupyter": {
     "outputs_hidden": false
    }
   },
   "outputs": [
    {
     "data": {
      "text/plain": [
       "Cloning into 'multi-objective-optimization'...\n",
       "remote: Enumerating objects: 11, done.\u001b[K\n",
       "\r",
       "remote: Counting objects: 100% (11/11), done.\u001b[K\n",
       "\r",
       "remote: Compressing objects: 100% (8/8), done.\u001b[K\n",
       "\r",
       "remote: Total 11 (delta 1), reused 0 (delta 0), pack-reused 0\u001b[K\n",
       "\r",
       "Receiving objects: 100% (11/11), 39.32 KiB | 39.32 MiB/s, done.\n",
       "\r",
       "Resolving deltas: 100% (1/1), done.\n"
      ]
     },
     "execution_count": 4,
     "metadata": {},
     "output_type": "execute_result"
    }
   ],
   "source": [
    "!git clone https://github.com/senkin13/multi-objective-optimization.git"
   ]
  },
  {
   "cell_type": "code",
   "execution_count": 6,
   "id": "666bfab26991faba4e9bc224",
   "metadata": {
    "chart_settings": null,
    "collapsed": false,
    "custom_llm_metric_settings": null,
    "custom_metric_settings": null,
    "dataframe_view_options": null,
    "datarobot": {
     "language": "python"
    },
    "disable_run": false,
    "hide_code": false,
    "hide_results": false,
    "jupyter": {
     "outputs_hidden": false
    }
   },
   "outputs": [
    {
     "data": {
      "text/plain": [
       "total 4\n",
       "drwxr-xr-x 3 notebooks notebooks  178 Jun 14 08:08 multi-objective-optimization\n",
       "drwxrwsr-x 3 root      notebooks 4096 Jun  6 09:20 storage\n"
      ]
     },
     "execution_count": 6,
     "metadata": {},
     "output_type": "execute_result"
    }
   ],
   "source": [
    "!ls -lt"
   ]
  },
  {
   "cell_type": "markdown",
   "id": "66617be1077c2248c28eb76e",
   "metadata": {
    "chart_settings": null,
    "custom_llm_metric_settings": null,
    "custom_metric_settings": null,
    "dataframe_view_options": null,
    "datarobot": {
     "language": "markdown"
    },
    "disable_run": false,
    "hide_code": false,
    "hide_results": false
   },
   "source": [
    "### Bind variables"
   ]
  },
  {
   "cell_type": "code",
   "execution_count": null,
   "id": "66617be1077c2248c28eb76f",
   "metadata": {
    "chart_settings": null,
    "collapsed": false,
    "custom_llm_metric_settings": null,
    "custom_metric_settings": null,
    "dataframe_view_options": null,
    "datarobot": {
     "language": "python"
    },
    "disable_run": false,
    "hide_code": false,
    "hide_results": false,
    "jupyter": {
     "outputs_hidden": false
    }
   },
   "outputs": [],
   "source": [
    "# If use groupkfold input group column [\"Group_ID\"], if use randomkfold input False\n",
    "group_col = False\n",
    "\n",
    "# Datarobot Path\n",
    "input_path = './multi-objective-optimization/'\n",
    "\n",
    "# File name, default is japanese version, if use english input steel_strength_en\n",
    "file_name = 'steel_strength_jp.csv'\n",
    "\n",
    "# Targets(multiple objective), default is japanese version, if use english input ['Yield strength','Tensile strength','Average strength']\n",
    "targets = ['降伏強度','引張強度','平均強度'] "
   ]
  },
  {
   "cell_type": "markdown",
   "id": "66617be1077c2248c28eb770",
   "metadata": {
    "chart_settings": null,
    "custom_llm_metric_settings": null,
    "custom_metric_settings": null,
    "dataframe_view_options": null,
    "datarobot": {
     "language": "markdown"
    },
    "disable_run": false,
    "hide_code": false,
    "hide_results": false
   },
   "source": [
    "### Run autopilot on datarobot"
   ]
  },
  {
   "cell_type": "code",
   "execution_count": 8,
   "id": "66617be1077c2248c28eb771",
   "metadata": {
    "chart_settings": null,
    "collapsed": false,
    "custom_llm_metric_settings": null,
    "custom_metric_settings": null,
    "dataframe_view_options": null,
    "datarobot": {
     "language": "python"
    },
    "disable_run": false,
    "hide_code": false,
    "hide_results": false,
    "jupyter": {
     "outputs_hidden": false
    }
   },
   "outputs": [
    {
     "data": {
      "text/plain": [
       "Project 降伏強度 completed running autopilot\n"
      ]
     },
     "execution_count": 8,
     "metadata": {},
     "output_type": "execute_result"
    },
    {
     "data": {
      "text/plain": [
       "Project 引張強度 completed running autopilot\n"
      ]
     },
     "execution_count": 8,
     "metadata": {},
     "output_type": "execute_result"
    },
    {
     "data": {
      "text/plain": [
       "Project 平均強度 completed running autopilot\n",
       "CPU times: user 1.81 s, sys: 524 ms, total: 2.34 s\n",
       "Wall time: 4min 34s\n"
      ]
     },
     "execution_count": 8,
     "metadata": {},
     "output_type": "execute_result"
    }
   ],
   "source": [
    "%%time\n",
    "\n",
    "def __run_autopilot(target,df,group_col):\n",
    "\n",
    "    project = dr.Project.create(df, project_name=target)\n",
    "\n",
    "    ao = dr.AdvancedOptions()\n",
    "    if (group_col!=False):\n",
    "        pm = dr.GroupCV(holdout_pct=0, partition_key_cols=[group_col], reps=5)            \n",
    "    else:\n",
    "        pm = dr.RandomCV(holdout_pct=0, reps=5)\n",
    "\n",
    "    project.analyze_and_model(worker_count=-1,\n",
    "                                  target=target, \n",
    "                                  mode=\"quick\", \n",
    "                                  partitioning_method=pm, \n",
    "                                  advanced_options=ao, \n",
    "                                  max_wait=10000)\n",
    "    \n",
    "    return project\n",
    "\n",
    "def __wait_for_cv(projects):\n",
    "    for i in range(len(projects)):\n",
    "        try:\n",
    "            project = dr.Project.get(project_id=projects[i-1].id)\n",
    "            jobs_list = project.get_all_jobs()\n",
    "            for job in jobs_list:\n",
    "                job.wait_for_completion(max_wait=60000)\n",
    "            print(\"Project \" + targets[i] + \" completed running autopilot\")\n",
    "        except:\n",
    "            print(\"Project \" + targets[i] +\" occured error\")\n",
    "\n",
    "df = pd.read_csv(input_path + file_name)\n",
    "df_feature = df.drop(targets,axis=1)\n",
    "\n",
    "delayed_dr_projects = []\n",
    "for i in range(len(targets)):  \n",
    "    df_ = df_feature.copy()\n",
    "    df_[targets[i]] = df[targets[i]]\n",
    "    temp = delayed(__run_autopilot)(targets[i],df_,group_col)\n",
    "    delayed_dr_projects.append(temp)\n",
    "        \n",
    "projects = compute(delayed_dr_projects)[0]\n",
    "\n",
    "__wait_for_cv(projects)"
   ]
  },
  {
   "cell_type": "markdown",
   "id": "66617be1077c2248c28eb772",
   "metadata": {
    "chart_settings": null,
    "custom_llm_metric_settings": null,
    "custom_metric_settings": null,
    "dataframe_view_options": null,
    "datarobot": {
     "language": "markdown"
    },
    "disable_run": false,
    "hide_code": false,
    "hide_results": false
   },
   "source": [
    "### Run delopyment on datarobot"
   ]
  },
  {
   "cell_type": "code",
   "execution_count": 9,
   "id": "66617be1077c2248c28eb773",
   "metadata": {
    "chart_settings": null,
    "collapsed": false,
    "custom_llm_metric_settings": null,
    "custom_metric_settings": null,
    "dataframe_view_options": null,
    "datarobot": {
     "language": "python"
    },
    "disable_run": false,
    "hide_code": false,
    "hide_results": false,
    "jupyter": {
     "outputs_hidden": false
    }
   },
   "outputs": [
    {
     "data": {
      "text/plain": [
       "CPU times: user 735 ms, sys: 62.8 ms, total: 798 ms\n",
       "Wall time: 4min 18s\n"
      ]
     },
     "execution_count": 9,
     "metadata": {},
     "output_type": "execute_result"
    }
   ],
   "source": [
    "%%time\n",
    "\n",
    "def __run_deployment(project):\n",
    "    model = project.get_models()[0]\n",
    "    target = project.target\n",
    "    prediction_server = dr.PredictionServer.list()[0]\n",
    "\n",
    "    registered_model_version = dr.RegisteredModelVersion.create_for_leaderboard_item(\n",
    "        model_id=model.id,\n",
    "        name=target,\n",
    "    )\n",
    "\n",
    "    deployment = dr.Deployment.create_from_registered_model_version(\n",
    "        registered_model_version.id, label=target, \n",
    "        default_prediction_server_id=prediction_server.id)\n",
    "    \n",
    "    return deployment\n",
    "    \n",
    "delayed_dr_projects = []\n",
    "for i in range(len(projects)):  \n",
    "    temp = delayed(__run_deployment)(projects[i])\n",
    "    delayed_dr_projects.append(temp)\n",
    "        \n",
    "deployments = compute(delayed_dr_projects)[0]"
   ]
  },
  {
   "cell_type": "markdown",
   "id": "66617be1077c2248c28eb774",
   "metadata": {
    "chart_settings": null,
    "custom_llm_metric_settings": null,
    "custom_metric_settings": null,
    "dataframe_view_options": null,
    "datarobot": {
     "language": "markdown"
    },
    "disable_run": false,
    "hide_code": false,
    "hide_results": false
   },
   "source": [
    "### Show deployment id"
   ]
  },
  {
   "cell_type": "code",
   "execution_count": 10,
   "id": "66617be1077c2248c28eb775",
   "metadata": {
    "chart_settings": null,
    "collapsed": false,
    "custom_llm_metric_settings": null,
    "custom_metric_settings": null,
    "dataframe_view_options": null,
    "datarobot": {
     "language": "python"
    },
    "disable_run": false,
    "hide_code": false,
    "hide_results": false,
    "jupyter": {
     "outputs_hidden": false
    }
   },
   "outputs": [
    {
     "data": {
      "text/plain": [
       "Deployment(降伏強度) 666bfc08fe9199e909e1c0a0\n",
       "Deployment(引張強度) 666bfc0922f06fd37b9ff8ff\n",
       "Deployment(平均強度) 666bfcb06c8ecda67b9fe99e\n"
      ]
     },
     "execution_count": 10,
     "metadata": {},
     "output_type": "execute_result"
    }
   ],
   "source": [
    "for d in deployments:\n",
    "    print (d,d.id)"
   ]
  },
  {
   "cell_type": "markdown",
   "id": "66617be1077c2248c28eb776",
   "metadata": {
    "chart_settings": null,
    "custom_llm_metric_settings": null,
    "custom_metric_settings": null,
    "dataframe_view_options": null,
    "datarobot": {
     "language": "markdown"
    },
    "disable_run": false,
    "hide_code": false,
    "hide_results": false
   },
   "source": [
    "### Build streamlit app on datarobot"
   ]
  },
  {
   "cell_type": "code",
   "execution_count": 11,
   "id": "66617be1077c2248c28eb777",
   "metadata": {
    "chart_settings": null,
    "collapsed": false,
    "custom_llm_metric_settings": null,
    "custom_metric_settings": null,
    "dataframe_view_options": null,
    "datarobot": {
     "language": "python"
    },
    "disable_run": false,
    "hide_code": false,
    "hide_results": false,
    "jupyter": {
     "outputs_hidden": false
    }
   },
   "outputs": [
    {
     "data": {
      "text/plain": [
       "Using multi-objective-optimization-demo-senkinSource custom application source.\n",
       "Creating new version for multi-objective-optimization-demo-senkinSource custom application source.\n",
       "\r",
       "\u001b[?25lUploading project:  [------------------------------------]    0%"
      ]
     },
     "execution_count": 11,
     "metadata": {},
     "output_type": "execute_result"
    },
    {
     "data": {
      "text/plain": [
       "\r",
       "\u001b[?25lUploading project:  [####################################]  100%\u001b[?25h\n",
       "Starting multi-objective-optimization-demo-senkin custom application.\n",
       "\r",
       "\u001b[?25lWaiting till app is ready:  [------------------------------------]"
      ]
     },
     "execution_count": 11,
     "metadata": {},
     "output_type": "execute_result"
    },
    {
     "data": {
      "text/plain": [
       "\r",
       "\u001b[?25lWaiting till app is ready:  [-------------------------#----------]"
      ]
     },
     "execution_count": 11,
     "metadata": {},
     "output_type": "execute_result"
    },
    {
     "data": {
      "text/plain": [
       "\r",
       "\u001b[?25lWaiting till app is ready:  [-#----------------------------------]"
      ]
     },
     "execution_count": 11,
     "metadata": {},
     "output_type": "execute_result"
    },
    {
     "data": {
      "text/plain": [
       "\r",
       "\u001b[?25lWaiting till app is ready:  [---------------------------------#--]"
      ]
     },
     "execution_count": 11,
     "metadata": {},
     "output_type": "execute_result"
    },
    {
     "data": {
      "text/plain": [
       "\r",
       "\u001b[?25lWaiting till app is ready:  [-------------------#----------------]"
      ]
     },
     "execution_count": 11,
     "metadata": {},
     "output_type": "execute_result"
    },
    {
     "data": {
      "text/plain": [
       "\r",
       "\u001b[?25lWaiting till app is ready:  [#-----------------------------------]"
      ]
     },
     "execution_count": 11,
     "metadata": {},
     "output_type": "execute_result"
    },
    {
     "data": {
      "text/plain": [
       "\r",
       "\u001b[?25lWaiting till app is ready:  [--------------------------#---------]"
      ]
     },
     "execution_count": 11,
     "metadata": {},
     "output_type": "execute_result"
    },
    {
     "data": {
      "text/plain": [
       "\r",
       "\u001b[?25lWaiting till app is ready:  [--------------------------------#---]"
      ]
     },
     "execution_count": 11,
     "metadata": {},
     "output_type": "execute_result"
    },
    {
     "data": {
      "text/plain": [
       "\r",
       "\u001b[?25lWaiting till app is ready:  [---------------------------------#--]"
      ]
     },
     "execution_count": 11,
     "metadata": {},
     "output_type": "execute_result"
    },
    {
     "data": {
      "text/plain": [
       "\r",
       "\u001b[?25lWaiting till app is ready:  [--------------------------#---------]"
      ]
     },
     "execution_count": 11,
     "metadata": {},
     "output_type": "execute_result"
    },
    {
     "data": {
      "text/plain": [
       "\r",
       "\u001b[?25lWaiting till app is ready:  [--------------#---------------------]"
      ]
     },
     "execution_count": 11,
     "metadata": {},
     "output_type": "execute_result"
    },
    {
     "data": {
      "text/plain": [
       "\r",
       "\u001b[?25lWaiting till app is ready:  [--#---------------------------------]"
      ]
     },
     "execution_count": 11,
     "metadata": {},
     "output_type": "execute_result"
    },
    {
     "data": {
      "text/plain": [
       "\r",
       "\u001b[?25lWaiting till app is ready:  [-#----------------------------------]"
      ]
     },
     "execution_count": 11,
     "metadata": {},
     "output_type": "execute_result"
    },
    {
     "data": {
      "text/plain": [
       "\r",
       "\u001b[?25lWaiting till app is ready:  [----------------#-------------------]"
      ]
     },
     "execution_count": 11,
     "metadata": {},
     "output_type": "execute_result"
    },
    {
     "data": {
      "text/plain": [
       "\r",
       "\u001b[?25lWaiting till app is ready:  [--------------------------------#---]"
      ]
     },
     "execution_count": 11,
     "metadata": {},
     "output_type": "execute_result"
    },
    {
     "data": {
      "text/plain": [
       "\r",
       "\u001b[?25lWaiting till app is ready:  [----------------------------------#-]"
      ]
     },
     "execution_count": 11,
     "metadata": {},
     "output_type": "execute_result"
    },
    {
     "data": {
      "text/plain": [
       "\r",
       "\u001b[?25lWaiting till app is ready:  [------------------#-----------------]"
      ]
     },
     "execution_count": 11,
     "metadata": {},
     "output_type": "execute_result"
    },
    {
     "data": {
      "text/plain": [
       "\r",
       "\u001b[?25lWaiting till app is ready:  [-#----------------------------------]"
      ]
     },
     "execution_count": 11,
     "metadata": {},
     "output_type": "execute_result"
    },
    {
     "data": {
      "text/plain": [
       "\r",
       "\u001b[?25lWaiting till app is ready:  [---#--------------------------------]"
      ]
     },
     "execution_count": 11,
     "metadata": {},
     "output_type": "execute_result"
    },
    {
     "data": {
      "text/plain": [
       "\r",
       "\u001b[?25lWaiting till app is ready:  [---------------------#--------------]"
      ]
     },
     "execution_count": 11,
     "metadata": {},
     "output_type": "execute_result"
    },
    {
     "data": {
      "text/plain": [
       "\r",
       "\u001b[?25lWaiting till app is ready:  [-----------------------------------#]"
      ]
     },
     "execution_count": 11,
     "metadata": {},
     "output_type": "execute_result"
    },
    {
     "data": {
      "text/plain": [
       "\r",
       "\u001b[?25lWaiting till app is ready:  [----------------------------#-------]"
      ]
     },
     "execution_count": 11,
     "metadata": {},
     "output_type": "execute_result"
    },
    {
     "data": {
      "text/plain": [
       "\r",
       "\u001b[?25lWaiting till app is ready:  [---------#--------------------------]"
      ]
     },
     "execution_count": 11,
     "metadata": {},
     "output_type": "execute_result"
    },
    {
     "data": {
      "text/plain": [
       "\r",
       "\u001b[?25lWaiting till app is ready:  [#-----------------------------------]"
      ]
     },
     "execution_count": 11,
     "metadata": {},
     "output_type": "execute_result"
    },
    {
     "data": {
      "text/plain": [
       "\r",
       "\u001b[?25lWaiting till app is ready:  [------------#-----------------------]"
      ]
     },
     "execution_count": 11,
     "metadata": {},
     "output_type": "execute_result"
    },
    {
     "data": {
      "text/plain": [
       "\r",
       "\u001b[?25lWaiting till app is ready:  [-------------------------------#----]"
      ]
     },
     "execution_count": 11,
     "metadata": {},
     "output_type": "execute_result"
    },
    {
     "data": {
      "text/plain": [
       "\r",
       "\u001b[?25lWaiting till app is ready:  [----------------------------------#-]"
      ]
     },
     "execution_count": 11,
     "metadata": {},
     "output_type": "execute_result"
    },
    {
     "data": {
      "text/plain": [
       "\r",
       "\u001b[?25lWaiting till app is ready:  [----------------#-------------------]"
      ]
     },
     "execution_count": 11,
     "metadata": {},
     "output_type": "execute_result"
    },
    {
     "data": {
      "text/plain": [
       "\r",
       "\u001b[?25lWaiting till app is ready:  [#-----------------------------------]"
      ]
     },
     "execution_count": 11,
     "metadata": {},
     "output_type": "execute_result"
    },
    {
     "data": {
      "text/plain": [
       "\r",
       "\u001b[?25lWaiting till app is ready:  [------#-----------------------------]"
      ]
     },
     "execution_count": 11,
     "metadata": {},
     "output_type": "execute_result"
    },
    {
     "data": {
      "text/plain": [
       "\r",
       "\u001b[?25lWaiting till app is ready:  [--------------------------#---------]"
      ]
     },
     "execution_count": 11,
     "metadata": {},
     "output_type": "execute_result"
    },
    {
     "data": {
      "text/plain": [
       "\r",
       "\u001b[?25lWaiting till app is ready:  [-----------------------------------#]"
      ]
     },
     "execution_count": 11,
     "metadata": {},
     "output_type": "execute_result"
    },
    {
     "data": {
      "text/plain": [
       "\r",
       "\u001b[?25lWaiting till app is ready:  [-----------------------#------------]"
      ]
     },
     "execution_count": 11,
     "metadata": {},
     "output_type": "execute_result"
    },
    {
     "data": {
      "text/plain": [
       "\r",
       "\u001b[?25lWaiting till app is ready:  [----#-------------------------------]"
      ]
     },
     "execution_count": 11,
     "metadata": {},
     "output_type": "execute_result"
    },
    {
     "data": {
      "text/plain": [
       "\r",
       "\u001b[?25lWaiting till app is ready:  [-#----------------------------------]"
      ]
     },
     "execution_count": 11,
     "metadata": {},
     "output_type": "execute_result"
    },
    {
     "data": {
      "text/plain": [
       "\r",
       "\u001b[?25lWaiting till app is ready:  [-------------------#----------------]"
      ]
     },
     "execution_count": 11,
     "metadata": {},
     "output_type": "execute_result"
    },
    {
     "data": {
      "text/plain": [
       "\r",
       "\u001b[?25lWaiting till app is ready:  [-----------------------------------#]"
      ]
     },
     "execution_count": 11,
     "metadata": {},
     "output_type": "execute_result"
    },
    {
     "data": {
      "text/plain": [
       "\r",
       "\u001b[?25lWaiting till app is ready:  [-----------------------------#------]"
      ]
     },
     "execution_count": 11,
     "metadata": {},
     "output_type": "execute_result"
    },
    {
     "data": {
      "text/plain": [
       "\r",
       "\u001b[?25lWaiting till app is ready:  [---------#--------------------------]"
      ]
     },
     "execution_count": 11,
     "metadata": {},
     "output_type": "execute_result"
    },
    {
     "data": {
      "text/plain": [
       "\r",
       "\u001b[?25lWaiting till app is ready:  [#-----------------------------------]"
      ]
     },
     "execution_count": 11,
     "metadata": {},
     "output_type": "execute_result"
    },
    {
     "data": {
      "text/plain": [
       "\r",
       "\u001b[?25lWaiting till app is ready:  [------------#-----------------------]"
      ]
     },
     "execution_count": 11,
     "metadata": {},
     "output_type": "execute_result"
    },
    {
     "data": {
      "text/plain": [
       "\r",
       "\u001b[?25lWaiting till app is ready:  [-------------------------------#----]"
      ]
     },
     "execution_count": 11,
     "metadata": {},
     "output_type": "execute_result"
    },
    {
     "data": {
      "text/plain": [
       "\u001b[?25h\n",
       "Custom application is running: https://app.datarobot.com/custom_applications/666bfd61f9d5bfa0ae8382c4/\n",
       "CPU times: user 2.64 s, sys: 1.28 s, total: 3.93 s\n",
       "Wall time: 3min 43s\n"
      ]
     },
     "execution_count": 11,
     "metadata": {},
     "output_type": "execute_result"
    }
   ],
   "source": [
    "%%time\n",
    "API_URL = os.environ['API_URL']\n",
    "DATAROBOT_API_TOKEN = os.environ['DATAROBOT_API_TOKEN']\n",
    "DATAROBOT_KEY = os.environ['DATAROBOT_KEY']\n",
    "credentials = [API_URL,DATAROBOT_API_TOKEN,DATAROBOT_KEY]\n",
    "with open(input_path+'credentials.pickle', mode='wb') as fo:\n",
    "    pickle.dump(credentials, fo)\n",
    "    \n",
    "!drapps create -t $DATAROBOT_API_TOKEN -e \"[Experimental] Python 3.9 Streamlit\" -p $input_path  \"multi-objective-optimization-demo-senkin\""
   ]
  },
  {
   "cell_type": "code",
   "execution_count": null,
   "id": "66617f6c077c2248c28eb8c5",
   "metadata": {
    "chart_settings": null,
    "collapsed": false,
    "custom_llm_metric_settings": null,
    "custom_metric_settings": null,
    "dataframe_view_options": null,
    "datarobot": {
     "language": "python"
    },
    "disable_run": false,
    "hide_code": false,
    "hide_results": false,
    "jupyter": {
     "outputs_hidden": false
    }
   },
   "outputs": [],
   "source": []
  }
 ],
 "metadata": {
  "kernelspec": {
   "display_name": "Python 3",
   "language": "python",
   "name": "python3"
  },
  "language_info": {
   "codemirror_mode": {
    "name": "ipython",
    "version": 3
   },
   "file_extension": ".py",
   "mimetype": "text/x-python",
   "name": "python",
   "nbconvert_exporter": "python",
   "pygments_lexer": "ipython3",
   "version": "3.7.6"
  }
 },
 "nbformat": 4,
 "nbformat_minor": 5
}
