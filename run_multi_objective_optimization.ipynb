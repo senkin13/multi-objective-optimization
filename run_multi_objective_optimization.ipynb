{
 "cells": [
  {
   "cell_type": "markdown",
   "id": "666c08ab1acd9b92f3f9e939",
   "metadata": {
    "chart_settings": null,
    "custom_llm_metric_settings": null,
    "custom_metric_settings": null,
    "dataframe_view_options": null,
    "datarobot": {
     "language": "markdown"
    },
    "disable_run": false,
    "hide_code": false,
    "hide_results": false
   },
   "source": [
    "# Multi-objective Optimization Streamlit Application\n",
    "- Author: senkin.zhan@datarobot.com\n",
    "\n",
    "## Summary\n",
    "This accelerator introduces an approach to build a streamlit application using DataRobot deploments for multi-objective optimization.\n",
    "\n",
    "This notebook outlines how to:\n",
    "\n",
    "1. Create multiple projects \n",
    "2. Build deployment with best model\n",
    "3. Build Streamlit application connecting to DataRobot\n"
   ]
  },
  {
   "cell_type": "markdown",
   "id": "666c08ab1acd9b92f3f9e93a",
   "metadata": {
    "chart_settings": null,
    "custom_llm_metric_settings": null,
    "custom_metric_settings": null,
    "dataframe_view_options": null,
    "datarobot": {
     "language": "markdown"
    },
    "disable_run": false,
    "hide_code": false,
    "hide_results": false
   },
   "source": [
    "## Setup\n",
    "\n",
    "### Install and import libraries"
   ]
  },
  {
   "cell_type": "code",
   "execution_count": 10,
   "id": "666c08ab1acd9b92f3f9e93b",
   "metadata": {
    "chart_settings": null,
    "collapsed": false,
    "custom_llm_metric_settings": null,
    "custom_metric_settings": null,
    "dataframe_view_options": null,
    "datarobot": {
     "language": "python"
    },
    "disable_run": false,
    "hide_code": false,
    "hide_results": false,
    "jupyter": {
     "outputs_hidden": false
    }
   },
   "outputs": [
    {
     "data": {
      "text/plain": [
       "Collecting git+https://github.com/datarobot/dr-apps\n",
       "  Cloning https://github.com/datarobot/dr-apps to /tmp/pip-req-build-y3l31ku3\n",
       "  Running command git clone --filter=blob:none --quiet https://github.com/datarobot/dr-apps /tmp/pip-req-build-y3l31ku3\n",
       "  Resolved https://github.com/datarobot/dr-apps to commit 7074c6606a5c08dc74f7385257d638986deb9baa\n",
       "  Installing build dependencies ... \u001b[?25l-"
      ]
     },
     "execution_count": 10,
     "metadata": {},
     "output_type": "execute_result"
    },
    {
     "data": {
      "text/plain": [
       "\b \b\\\b \b|\b \bdone\n",
       "\u001b[?25h  Getting requirements to build wheel ... \u001b[?25l-\b \bdone\n",
       "\u001b[?25h  Preparing metadata (pyproject.toml) ... \u001b[?25l-\b \bdone\n",
       "\u001b[?25hRequirement already satisfied: bson==0.5.10 in /etc/system/kernel/.venv/lib64/python3.11/site-packages (from drapps==0.2.4) (0.5.10)\n",
       "Requirement already satisfied: click==8.1.7 in /etc/system/kernel/.venv/lib64/python3.11/site-packages (from drapps==0.2.4) (8.1.7)\n",
       "Requirement already satisfied: dateutils==0.6.12 in /etc/system/kernel/.venv/lib64/python3.11/site-packages (from drapps==0.2.4) (0.6.12)\n",
       "Requirement already satisfied: requests==2.31.0 in /etc/system/kernel/.venv/lib64/python3.11/site-packages (from drapps==0.2.4) (2.31.0)\n",
       "Requirement already satisfied: requests-toolbelt==1.0.0 in /etc/system/kernel/.venv/lib64/python3.11/site-packages (from drapps==0.2.4) (1.0.0)\n",
       "Requirement already satisfied: tabulate==0.9.0 in /etc/system/kernel/.venv/lib64/python3.11/site-packages (from drapps==0.2.4) (0.9.0)\n",
       "Requirement already satisfied: python-dateutil>=2.4.0 in /etc/system/kernel/.venv/lib64/python3.11/site-packages (from bson==0.5.10->drapps==0.2.4) (2.9.0.post0)\n",
       "Requirement already satisfied: six>=1.9.0 in /etc/system/kernel/.venv/lib64/python3.11/site-packages (from bson==0.5.10->drapps==0.2.4) (1.16.0)\n",
       "Requirement already satisfied: pytz in /etc/system/kernel/.venv/lib64/python3.11/site-packages (from dateutils==0.6.12->drapps==0.2.4) (2024.1)\n",
       "Requirement already satisfied: charset-normalizer<4,>=2 in /etc/system/kernel/.venv/lib64/python3.11/site-packages (from requests==2.31.0->drapps==0.2.4) (3.3.2)\n",
       "Requirement already satisfied: idna<4,>=2.5 in /etc/system/kernel/.venv/lib64/python3.11/site-packages (from requests==2.31.0->drapps==0.2.4) (3.7)\n",
       "Requirement already satisfied: urllib3<3,>=1.21.1 in /etc/system/kernel/.venv/lib64/python3.11/site-packages (from requests==2.31.0->drapps==0.2.4) (1.26.18)\n",
       "Requirement already satisfied: certifi>=2017.4.17 in /etc/system/kernel/.venv/lib64/python3.11/site-packages (from requests==2.31.0->drapps==0.2.4) (2024.6.2)\n"
      ]
     },
     "execution_count": 10,
     "metadata": {},
     "output_type": "execute_result"
    },
    {
     "data": {
      "text/plain": [
       "\u001b[1m[\u001b[0m\u001b[34;49mnotice\u001b[0m\u001b[1;39;49m]\u001b[0m\u001b[39;49m A new release of pip available: \u001b[0m\u001b[31;49m22.3.1\u001b[0m\u001b[39;49m -> \u001b[0m\u001b[32;49m24.0\u001b[0m\n",
       "\u001b[1m[\u001b[0m\u001b[34;49mnotice\u001b[0m\u001b[1;39;49m]\u001b[0m\u001b[39;49m To update, run: \u001b[0m\u001b[32;49mpip install --upgrade pip\u001b[0m\n"
      ]
     },
     "execution_count": 10,
     "metadata": {},
     "output_type": "execute_result"
    }
   ],
   "source": [
    "!pip install git+https://github.com/datarobot/dr-apps "
   ]
  },
  {
   "cell_type": "code",
   "execution_count": null,
   "id": "666c08ab1acd9b92f3f9e93c",
   "metadata": {
    "chart_settings": null,
    "collapsed": false,
    "custom_llm_metric_settings": null,
    "custom_metric_settings": null,
    "dataframe_view_options": null,
    "datarobot": {
     "language": "python"
    },
    "disable_run": false,
    "hide_code": false,
    "hide_results": false,
    "jupyter": {
     "outputs_hidden": false
    }
   },
   "outputs": [],
   "source": [
    "import pandas as pd\n",
    "import numpy as np\n",
    "import datarobot as dr\n",
    "from datarobot.models.dataset import Dataset\n",
    "import datetime as dt\n",
    "import time\n",
    "import os\n",
    "from dask import delayed, compute #For parallelization\n",
    "import pickle"
   ]
  },
  {
   "cell_type": "markdown",
   "id": "666c08ab1acd9b92f3f9e93d",
   "metadata": {
    "chart_settings": null,
    "custom_llm_metric_settings": null,
    "custom_metric_settings": null,
    "dataframe_view_options": null,
    "datarobot": {
     "language": "markdown"
    },
    "disable_run": false,
    "hide_code": false,
    "hide_results": false
   },
   "source": [
    "### Download code from github repository"
   ]
  },
  {
   "cell_type": "code",
   "execution_count": 12,
   "id": "666c08ab1acd9b92f3f9e93e",
   "metadata": {
    "chart_settings": null,
    "collapsed": false,
    "custom_llm_metric_settings": null,
    "custom_metric_settings": null,
    "dataframe_view_options": null,
    "datarobot": {
     "language": "python"
    },
    "disable_run": false,
    "hide_code": false,
    "hide_results": false,
    "jupyter": {
     "outputs_hidden": false
    }
   },
   "outputs": [
    {
     "data": {
      "text/plain": [
       "fatal: destination path 'multi-objective-optimization' already exists and is not an empty directory.\n"
      ]
     },
     "execution_count": 12,
     "metadata": {},
     "output_type": "execute_result"
    }
   ],
   "source": [
    "!git clone https://github.com/senkin13/multi-objective-optimization.git"
   ]
  },
  {
   "cell_type": "code",
   "execution_count": 13,
   "id": "666c08ab1acd9b92f3f9e93f",
   "metadata": {
    "chart_settings": null,
    "collapsed": false,
    "custom_llm_metric_settings": null,
    "custom_metric_settings": null,
    "dataframe_view_options": null,
    "datarobot": {
     "language": "python"
    },
    "disable_run": false,
    "hide_code": false,
    "hide_results": false,
    "jupyter": {
     "outputs_hidden": false
    }
   },
   "outputs": [
    {
     "data": {
      "text/plain": [
       "total 0\n",
       "drwxr-xr-x 3 notebooks notebooks 224 Jun 14 10:41 multi-objective-optimization\n"
      ]
     },
     "execution_count": 13,
     "metadata": {},
     "output_type": "execute_result"
    }
   ],
   "source": [
    "!ls -lt"
   ]
  },
  {
   "cell_type": "markdown",
   "id": "666c08ab1acd9b92f3f9e940",
   "metadata": {
    "chart_settings": null,
    "custom_llm_metric_settings": null,
    "custom_metric_settings": null,
    "dataframe_view_options": null,
    "datarobot": {
     "language": "markdown"
    },
    "disable_run": false,
    "hide_code": false,
    "hide_results": false
   },
   "source": [
    "### Bind variables"
   ]
  },
  {
   "cell_type": "code",
   "execution_count": null,
   "id": "666c08ab1acd9b92f3f9e941",
   "metadata": {
    "chart_settings": null,
    "collapsed": false,
    "custom_llm_metric_settings": null,
    "custom_metric_settings": null,
    "dataframe_view_options": null,
    "datarobot": {
     "language": "python"
    },
    "disable_run": false,
    "hide_code": false,
    "hide_results": false,
    "jupyter": {
     "outputs_hidden": false
    }
   },
   "outputs": [],
   "source": [
    "# DataRobot Input Path\n",
    "input_path = './multi-objective-optimization/'\n",
    "\n",
    "# credentials\n",
    "API_URL = '<INSERT Deployment API URL>'\n",
    "DATAROBOT_API_TOKEN = '<INSERT YOUR DataRobot API Token>'\n",
    "DATAROBOT_KEY = '<INSERT DataRobot Key>'\n",
    "\n",
    "credentials = [API_URL,DATAROBOT_API_TOKEN,DATAROBOT_KEY]\n",
    "with open(input_path+'credentials.pickle', mode='wb') as fo:\n",
    "    pickle.dump(credentials, fo)\n",
    "    \n",
    "# If use groupkfold input group column [\"Group_ID\"], if use randomkfold input False\n",
    "group_col = False\n",
    "\n",
    "# File name, default is japanese version, if use english input steel_strength_en\n",
    "file_name = 'steel_strength_jp.csv'\n",
    "\n",
    "# Targets(multiple objective), default is japanese version, if use english input ['Yield strength','Tensile strength','Average strength']\n",
    "targets = ['降伏強度','引張強度','平均強度'] \n",
    "\n",
    "# Optimization Directions, choose minimize or maximize,max 30 targets\n",
    "directions = ['maximize','maximize','maximize']\n",
    "\n",
    "# Streamlit App name\n",
    "app_name = \"multi-objective-optimization-demo\"\n"
   ]
  },
  {
   "cell_type": "markdown",
   "id": "666c08ab1acd9b92f3f9e942",
   "metadata": {
    "chart_settings": null,
    "custom_llm_metric_settings": null,
    "custom_metric_settings": null,
    "dataframe_view_options": null,
    "datarobot": {
     "language": "markdown"
    },
    "disable_run": false,
    "hide_code": false,
    "hide_results": false
   },
   "source": [
    "### Run autopilot on datarobot"
   ]
  },
  {
   "cell_type": "code",
   "execution_count": 15,
   "id": "666c08ab1acd9b92f3f9e943",
   "metadata": {
    "chart_settings": null,
    "collapsed": false,
    "custom_llm_metric_settings": null,
    "custom_metric_settings": null,
    "dataframe_view_options": null,
    "datarobot": {
     "language": "python"
    },
    "disable_run": false,
    "hide_code": false,
    "hide_results": false,
    "jupyter": {
     "outputs_hidden": false
    }
   },
   "outputs": [
    {
     "data": {
      "text/plain": [
       "Project 降伏強度 completed running autopilot\n"
      ]
     },
     "execution_count": 15,
     "metadata": {},
     "output_type": "execute_result"
    },
    {
     "data": {
      "text/plain": [
       "Project 引張強度 completed running autopilot\n"
      ]
     },
     "execution_count": 15,
     "metadata": {},
     "output_type": "execute_result"
    },
    {
     "data": {
      "text/plain": [
       "Project 平均強度 completed running autopilot\n",
       "CPU times: user 1.56 s, sys: 86.3 ms, total: 1.64 s\n",
       "Wall time: 4min 3s\n"
      ]
     },
     "execution_count": 15,
     "metadata": {},
     "output_type": "execute_result"
    }
   ],
   "source": [
    "%%time\n",
    "\n",
    "def __run_autopilot(target,df,group_col):\n",
    "\n",
    "    project = dr.Project.create(df, project_name=target)\n",
    "\n",
    "    ao = dr.AdvancedOptions()\n",
    "    if (group_col!=False):\n",
    "        pm = dr.GroupCV(holdout_pct=0, partition_key_cols=[group_col], reps=5)            \n",
    "    else:\n",
    "        pm = dr.RandomCV(holdout_pct=0, reps=5)\n",
    "\n",
    "    project.analyze_and_model(worker_count=-1,\n",
    "                                  target=target, \n",
    "                                  mode=\"quick\", \n",
    "                                  partitioning_method=pm, \n",
    "                                  advanced_options=ao, \n",
    "                                  max_wait=10000)\n",
    "    \n",
    "    return project\n",
    "\n",
    "def __wait_for_cv(projects):\n",
    "    for i in range(len(projects)):\n",
    "        try:\n",
    "            project = dr.Project.get(project_id=projects[i-1].id)\n",
    "            jobs_list = project.get_all_jobs()\n",
    "            for job in jobs_list:\n",
    "                job.wait_for_completion(max_wait=60000)\n",
    "            print(\"Project \" + targets[i] + \" completed running autopilot\")\n",
    "        except:\n",
    "            print(\"Project \" + targets[i] +\" occured error\")\n",
    "\n",
    "df = pd.read_csv(input_path + file_name)\n",
    "df.to_csv(input_path + 'feature.csv',index=False)\n",
    "df_feature = df.drop(targets,axis=1)\n",
    "\n",
    "delayed_dr_projects = []\n",
    "for i in range(len(targets)):  \n",
    "    df_ = df_feature.copy()\n",
    "    df_[targets[i]] = df[targets[i]]\n",
    "    temp = delayed(__run_autopilot)(targets[i],df_,group_col)\n",
    "    delayed_dr_projects.append(temp)\n",
    "        \n",
    "projects = compute(delayed_dr_projects)[0]\n",
    "\n",
    "__wait_for_cv(projects)"
   ]
  },
  {
   "cell_type": "markdown",
   "id": "666c08ab1acd9b92f3f9e944",
   "metadata": {
    "chart_settings": null,
    "custom_llm_metric_settings": null,
    "custom_metric_settings": null,
    "dataframe_view_options": null,
    "datarobot": {
     "language": "markdown"
    },
    "disable_run": false,
    "hide_code": false,
    "hide_results": false
   },
   "source": [
    "### Run delopyment on datarobot"
   ]
  },
  {
   "cell_type": "code",
   "execution_count": 16,
   "id": "666c08ab1acd9b92f3f9e945",
   "metadata": {
    "chart_settings": null,
    "collapsed": false,
    "custom_llm_metric_settings": null,
    "custom_metric_settings": null,
    "dataframe_view_options": null,
    "datarobot": {
     "language": "python"
    },
    "disable_run": false,
    "hide_code": false,
    "hide_results": false,
    "jupyter": {
     "outputs_hidden": false
    }
   },
   "outputs": [
    {
     "data": {
      "text/plain": [
       "CPU times: user 665 ms, sys: 50.8 ms, total: 716 ms\n",
       "Wall time: 4min 52s\n"
      ]
     },
     "execution_count": 16,
     "metadata": {},
     "output_type": "execute_result"
    }
   ],
   "source": [
    "%%time\n",
    "\n",
    "def __run_deployment(project):\n",
    "    model = project.get_model_records()[0]\n",
    "    target = project.target\n",
    "    prediction_server = dr.PredictionServer.list()[0]\n",
    "\n",
    "    registered_model_version = dr.RegisteredModelVersion.create_for_leaderboard_item(\n",
    "        model_id=model.id,\n",
    "        name=target,\n",
    "    )\n",
    "\n",
    "    deployment = dr.Deployment.create_from_registered_model_version(\n",
    "        registered_model_version.id, label=target, \n",
    "        default_prediction_server_id=prediction_server.id)\n",
    "    \n",
    "    return deployment\n",
    "    \n",
    "delayed_dr_projects = []\n",
    "for i in range(len(projects)):  \n",
    "    temp = delayed(__run_deployment)(projects[i])\n",
    "    delayed_dr_projects.append(temp)\n",
    "        \n",
    "deployments = compute(delayed_dr_projects)[0]"
   ]
  },
  {
   "cell_type": "markdown",
   "id": "666c08ab1acd9b92f3f9e946",
   "metadata": {
    "chart_settings": null,
    "custom_llm_metric_settings": null,
    "custom_metric_settings": null,
    "dataframe_view_options": null,
    "datarobot": {
     "language": "markdown"
    },
    "disable_run": false,
    "hide_code": false,
    "hide_results": false
   },
   "source": [
    "### Save deployment ids"
   ]
  },
  {
   "cell_type": "code",
   "execution_count": 17,
   "id": "666c08ab1acd9b92f3f9e947",
   "metadata": {
    "chart_settings": null,
    "collapsed": false,
    "custom_llm_metric_settings": null,
    "custom_metric_settings": null,
    "dataframe_view_options": null,
    "datarobot": {
     "language": "python"
    },
    "disable_run": false,
    "hide_code": false,
    "hide_results": false,
    "jupyter": {
     "outputs_hidden": false
    }
   },
   "outputs": [
    {
     "data": {
      "text/plain": [
       "Deployment(降伏強度) 降伏強度 666c1fd41eeae168439ff6c3 maximize\n",
       "Deployment(引張強度) 引張強度 666c2041fdf24d5280e1d2f2 maximize\n",
       "Deployment(平均強度) 平均強度 666c1fd233e8d26f6b9fea94 maximize\n"
      ]
     },
     "execution_count": 17,
     "metadata": {},
     "output_type": "execute_result"
    }
   ],
   "source": [
    "deployment_ids = []\n",
    "for i,d in enumerate(deployments):\n",
    "    deployment_ids.append(d.id)\n",
    "    print (d,targets[i],d.id,directions[i])\n",
    "df_config = pd.DataFrame({'Target Name':targets,'Deployment ID':deployment_ids,'Optimization Direction':directions})  \n",
    "df_config.to_csv(input_path+'config.csv',index=False)\n"
   ]
  },
  {
   "cell_type": "markdown",
   "id": "666c08ab1acd9b92f3f9e948",
   "metadata": {
    "chart_settings": null,
    "custom_llm_metric_settings": null,
    "custom_metric_settings": null,
    "dataframe_view_options": null,
    "datarobot": {
     "language": "markdown"
    },
    "disable_run": false,
    "hide_code": false,
    "hide_results": false
   },
   "source": [
    "### Build streamlit app on datarobot"
   ]
  },
  {
   "cell_type": "code",
   "execution_count": 23,
   "id": "666c08ab1acd9b92f3f9e949",
   "metadata": {
    "chart_settings": null,
    "collapsed": false,
    "custom_llm_metric_settings": null,
    "custom_metric_settings": null,
    "dataframe_view_options": null,
    "datarobot": {
     "language": "python"
    },
    "disable_run": false,
    "hide_code": false,
    "hide_results": false,
    "jupyter": {
     "outputs_hidden": false
    }
   },
   "outputs": [
    {
     "data": {
      "text/plain": [
       "Using multi-objective-optimization-demoSource custom application source.\n",
       "Creating new version for multi-objective-optimization-demoSource custom application source.\n",
       "\r",
       "\u001b[?25lUploading project:  [------------------------------------]    0%"
      ]
     },
     "execution_count": 23,
     "metadata": {},
     "output_type": "execute_result"
    },
    {
     "data": {
      "text/plain": [
       "\r",
       "\u001b[?25lUploading project:  [####################################]  100%\u001b[?25h\n",
       "Starting multi-objective-optimization-demo custom application.\n",
       "\r",
       "\u001b[?25lWaiting till app is ready:  [------------------------------------]"
      ]
     },
     "execution_count": 23,
     "metadata": {},
     "output_type": "execute_result"
    },
    {
     "data": {
      "text/plain": [
       "\r",
       "\u001b[?25lWaiting till app is ready:  [-------------------------#----------]"
      ]
     },
     "execution_count": 23,
     "metadata": {},
     "output_type": "execute_result"
    },
    {
     "data": {
      "text/plain": [
       "\r",
       "\u001b[?25lWaiting till app is ready:  [-#----------------------------------]"
      ]
     },
     "execution_count": 23,
     "metadata": {},
     "output_type": "execute_result"
    },
    {
     "data": {
      "text/plain": [
       "\r",
       "\u001b[?25lWaiting till app is ready:  [---------------------------------#--]"
      ]
     },
     "execution_count": 23,
     "metadata": {},
     "output_type": "execute_result"
    },
    {
     "data": {
      "text/plain": [
       "\r",
       "\u001b[?25lWaiting till app is ready:  [------------------#-----------------]"
      ]
     },
     "execution_count": 23,
     "metadata": {},
     "output_type": "execute_result"
    },
    {
     "data": {
      "text/plain": [
       "\r",
       "\u001b[?25lWaiting till app is ready:  [#-----------------------------------]"
      ]
     },
     "execution_count": 23,
     "metadata": {},
     "output_type": "execute_result"
    },
    {
     "data": {
      "text/plain": [
       "\r",
       "\u001b[?25lWaiting till app is ready:  [--------------------------#---------]"
      ]
     },
     "execution_count": 23,
     "metadata": {},
     "output_type": "execute_result"
    },
    {
     "data": {
      "text/plain": [
       "\r",
       "\u001b[?25lWaiting till app is ready:  [--------------------------------#---]"
      ]
     },
     "execution_count": 23,
     "metadata": {},
     "output_type": "execute_result"
    },
    {
     "data": {
      "text/plain": [
       "\r",
       "\u001b[?25lWaiting till app is ready:  [--------------------------#---------]"
      ]
     },
     "execution_count": 23,
     "metadata": {},
     "output_type": "execute_result"
    },
    {
     "data": {
      "text/plain": [
       "\r",
       "\u001b[?25lWaiting till app is ready:  [-------------#----------------------]"
      ]
     },
     "execution_count": 23,
     "metadata": {},
     "output_type": "execute_result"
    },
    {
     "data": {
      "text/plain": [
       "\r",
       "\u001b[?25lWaiting till app is ready:  [-#----------------------------------]"
      ]
     },
     "execution_count": 23,
     "metadata": {},
     "output_type": "execute_result"
    },
    {
     "data": {
      "text/plain": [
       "\r",
       "\u001b[?25lWaiting till app is ready:  [--#---------------------------------]"
      ]
     },
     "execution_count": 23,
     "metadata": {},
     "output_type": "execute_result"
    },
    {
     "data": {
      "text/plain": [
       "\r",
       "\u001b[?25lWaiting till app is ready:  [-----------------#------------------]"
      ]
     },
     "execution_count": 23,
     "metadata": {},
     "output_type": "execute_result"
    },
    {
     "data": {
      "text/plain": [
       "\r",
       "\u001b[?25lWaiting till app is ready:  [---------------------------------#--]"
      ]
     },
     "execution_count": 23,
     "metadata": {},
     "output_type": "execute_result"
    },
    {
     "data": {
      "text/plain": [
       "\r",
       "\u001b[?25lWaiting till app is ready:  [-----------------#------------------]"
      ]
     },
     "execution_count": 23,
     "metadata": {},
     "output_type": "execute_result"
    },
    {
     "data": {
      "text/plain": [
       "\u001b[?25h\n",
       "Custom application is running: https://app.datarobot.com/custom_applications/666c221de9cac654ca42f51a/\n",
       "CPU times: user 982 ms, sys: 492 ms, total: 1.47 s\n",
       "Wall time: 1min 37s\n"
      ]
     },
     "execution_count": 23,
     "metadata": {},
     "output_type": "execute_result"
    }
   ],
   "source": [
    "%%time\n",
    "\n",
    "!drapps create -t $DATAROBOT_API_TOKEN -e '[Experimental] Python 3.9 Streamlit' -p $input_path $app_name"
   ]
  },
  {
   "cell_type": "code",
   "execution_count": null,
   "id": "666c22126991faba4e9bceba",
   "metadata": {
    "chart_settings": null,
    "collapsed": false,
    "custom_llm_metric_settings": null,
    "custom_metric_settings": null,
    "dataframe_view_options": null,
    "datarobot": {
     "language": "python"
    },
    "disable_run": false,
    "hide_code": false,
    "hide_results": false,
    "jupyter": {
     "outputs_hidden": false
    }
   },
   "outputs": [],
   "source": []
  }
 ],
 "metadata": {
  "kernelspec": {
   "display_name": "Python 3",
   "language": "python",
   "name": "python3"
  },
  "language_info": {
   "codemirror_mode": {
    "name": "ipython",
    "version": 3
   },
   "file_extension": ".py",
   "mimetype": "text/x-python",
   "name": "python",
   "nbconvert_exporter": "python",
   "pygments_lexer": "ipython3",
   "version": "3.7.6"
  }
 },
 "nbformat": 4,
 "nbformat_minor": 5
}
